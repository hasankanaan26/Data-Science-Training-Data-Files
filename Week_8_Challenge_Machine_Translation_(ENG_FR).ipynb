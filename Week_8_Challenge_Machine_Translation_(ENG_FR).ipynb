{
  "cells": [
    {
      "cell_type": "markdown",
      "metadata": {
        "id": "view-in-github",
        "colab_type": "text"
      },
      "source": [
        "<a href=\"https://colab.research.google.com/github/hasankanaan26/DataScienceFoundationsFiles/blob/main/Week_8_Challenge_Machine_Translation_(ENG_FR).ipynb\" target=\"_parent\"><img src=\"https://colab.research.google.com/assets/colab-badge.svg\" alt=\"Open In Colab\"/></a>"
      ]
    },
    {
      "cell_type": "markdown",
      "source": [
        "##Machine Translation Using a Seq2Seq Architecture\n",
        "\n",
        "---\n",
        "The goal of this colab is to get you more familiar with the Seq2Seq models and their challenges. For this reason, you will be working on machine translation problem where we would have a sentence as input (in english), and the output is gonna be the translated sentence (in french). So just like what happens with Google Translate.\n"
      ],
      "metadata": {
        "id": "xiC75uo6u_Of"
      }
    },
    {
      "cell_type": "markdown",
      "source": [
        "**Just to give you a heads up:** We won't be having a model performing like Google translate, but at least we will have an idea about how Google Translate works and the challenges that exist with a translation problem.  "
      ],
      "metadata": {
        "id": "TeK4LPupvg_c"
      }
    },
    {
      "cell_type": "markdown",
      "source": [
        "## Importing Libraries"
      ],
      "metadata": {
        "id": "SBTvDTzBv293"
      }
    },
    {
      "cell_type": "markdown",
      "source": [
        "We start by importing numpy and pandas and then we can add the rest"
      ],
      "metadata": {
        "id": "4_j1ZzS3v6N3"
      }
    },
    {
      "cell_type": "code",
      "execution_count": null,
      "metadata": {
        "id": "n0IARXAX1e1m"
      },
      "outputs": [],
      "source": [
        "import pandas as pd\n",
        "import numpy as np"
      ]
    },
    {
      "cell_type": "markdown",
      "source": [
        "We clone the github repository where our data exists. Here is the github link: https://github.com/zaka-ai/machine_learning_certification/tree/main/Challenge%207 "
      ],
      "metadata": {
        "id": "vAcLqZ7uv-SJ"
      }
    },
    {
      "cell_type": "markdown",
      "source": [
        "## Getting the data"
      ],
      "metadata": {
        "id": "i3hLN42axOjn"
      }
    },
    {
      "cell_type": "code",
      "source": [
        "#Test Your Zaka\n",
        "!git clone https://github.com/zaka-ai/machine_learning_certification.git"
      ],
      "metadata": {
        "id": "0-M7cFxTPpqy",
        "colab": {
          "base_uri": "https://localhost:8080/"
        },
        "outputId": "b41644ed-79cf-417f-b300-bf519568fe3c"
      },
      "execution_count": null,
      "outputs": [
        {
          "output_type": "stream",
          "name": "stdout",
          "text": [
            "Cloning into 'machine_learning_certification'...\n",
            "remote: Enumerating objects: 43, done.\u001b[K\n",
            "remote: Counting objects: 100% (43/43), done.\u001b[K\n",
            "remote: Compressing objects: 100% (39/39), done.\u001b[K\n",
            "remote: Total 43 (delta 10), reused 10 (delta 1), pack-reused 0\u001b[K\n",
            "Unpacking objects: 100% (43/43), done.\n"
          ]
        }
      ]
    },
    {
      "cell_type": "markdown",
      "source": [
        "We read the english sentences in a dataframe named \"english\", and the french sentences in a dataframe named \"french\""
      ],
      "metadata": {
        "id": "BaPr0N8cwGAv"
      }
    },
    {
      "cell_type": "code",
      "execution_count": null,
      "metadata": {
        "id": "kFj8gkP01lGT"
      },
      "outputs": [],
      "source": [
        "#Test Your Zaka (English)\n",
        "path_en='/content/machine_learning_certification/Challenge 7/en.csv'\n",
        "english=pd.read_csv(path_en, header=None)\n",
        "english.columns=['en_sentence']"
      ]
    },
    {
      "cell_type": "code",
      "execution_count": null,
      "metadata": {
        "id": "P4A7ZKt32A7s"
      },
      "outputs": [],
      "source": [
        "#Test Your Zaka (French)\n",
        "path_fr='/content/machine_learning_certification/Challenge 7/fr.csv'\n",
        "french=pd.read_csv(path_fr, header=None)\n",
        "french.columns=['fr_sentence']"
      ]
    },
    {
      "cell_type": "markdown",
      "source": [
        "**How many sentences does each of the files contain?**"
      ],
      "metadata": {
        "id": "jr8OO1OhwSp4"
      }
    },
    {
      "cell_type": "code",
      "execution_count": null,
      "metadata": {
        "id": "XhWJP-b02HKq",
        "colab": {
          "base_uri": "https://localhost:8080/"
        },
        "outputId": "1839cc07-b43b-4123-8427-5ae13bd052f5"
      },
      "outputs": [
        {
          "output_type": "stream",
          "name": "stdout",
          "text": [
            "english file contains 137860 sentences\n",
            "french file contains 137860 sentences\n"
          ]
        }
      ],
      "source": [
        "#Test Your Zaka\n",
        "print('english file contains',english.shape[0],'sentences')\n",
        "print('french file contains',french.shape[0],'sentences')"
      ]
    },
    {
      "cell_type": "markdown",
      "source": [
        "Now let us concatenate the 2 dataframes into one dataframe that we call **df** where one column has the english senetnces and the other has the french sentences"
      ],
      "metadata": {
        "id": "ITGJN5tIwkDO"
      }
    },
    {
      "cell_type": "code",
      "execution_count": null,
      "metadata": {
        "id": "-ZXxahsB2njn"
      },
      "outputs": [],
      "source": [
        "#Test Your Zaka\n",
        "df=pd.concat([english,french],axis=1)"
      ]
    },
    {
      "cell_type": "code",
      "source": [
        "df.head(10)"
      ],
      "metadata": {
        "colab": {
          "base_uri": "https://localhost:8080/",
          "height": 363
        },
        "id": "EG9C4EOk7wtI",
        "outputId": "eca98e5c-6717-478a-d7ee-187793e35557"
      },
      "execution_count": null,
      "outputs": [
        {
          "output_type": "execute_result",
          "data": {
            "text/plain": [
              "                                         en_sentence  \\\n",
              "0  new jersey is sometimes quiet during autumn , ...   \n",
              "1  the united states is usually chilly during jul...   \n",
              "2  california is usually quiet during march , and...   \n",
              "3  the united states is sometimes mild during jun...   \n",
              "4  your least liked fruit is the grape , but my l...   \n",
              "5  his favorite fruit is the orange , but my favo...   \n",
              "6  paris is relaxing during december , but it is ...   \n",
              "7  new jersey is busy during spring , and it is n...   \n",
              "8  our least liked fruit is the lemon , but my le...   \n",
              "9  the united states is sometimes busy during jan...   \n",
              "\n",
              "                                         fr_sentence  \n",
              "0  new jersey est parfois calme pendant l' automn...  \n",
              "1  les états-unis est généralement froid en juill...  \n",
              "2  california est généralement calme en mars , et...  \n",
              "3  les états-unis est parfois légère en juin , et...  \n",
              "4  votre moins aimé fruit est le raisin , mais mo...  \n",
              "5  son fruit préféré est l'orange , mais mon préf...  \n",
              "6  paris est relaxant en décembre , mais il est g...  \n",
              "7  new jersey est occupé au printemps , et il est...  \n",
              "8  notre fruit est moins aimé le citron , mais mo...  \n",
              "9  les états-unis est parfois occupé en janvier ,...  "
            ],
            "text/html": [
              "\n",
              "  <div id=\"df-04a56267-c748-47db-99ec-cc0e7cabc6fc\">\n",
              "    <div class=\"colab-df-container\">\n",
              "      <div>\n",
              "<style scoped>\n",
              "    .dataframe tbody tr th:only-of-type {\n",
              "        vertical-align: middle;\n",
              "    }\n",
              "\n",
              "    .dataframe tbody tr th {\n",
              "        vertical-align: top;\n",
              "    }\n",
              "\n",
              "    .dataframe thead th {\n",
              "        text-align: right;\n",
              "    }\n",
              "</style>\n",
              "<table border=\"1\" class=\"dataframe\">\n",
              "  <thead>\n",
              "    <tr style=\"text-align: right;\">\n",
              "      <th></th>\n",
              "      <th>en_sentence</th>\n",
              "      <th>fr_sentence</th>\n",
              "    </tr>\n",
              "  </thead>\n",
              "  <tbody>\n",
              "    <tr>\n",
              "      <th>0</th>\n",
              "      <td>new jersey is sometimes quiet during autumn , ...</td>\n",
              "      <td>new jersey est parfois calme pendant l' automn...</td>\n",
              "    </tr>\n",
              "    <tr>\n",
              "      <th>1</th>\n",
              "      <td>the united states is usually chilly during jul...</td>\n",
              "      <td>les états-unis est généralement froid en juill...</td>\n",
              "    </tr>\n",
              "    <tr>\n",
              "      <th>2</th>\n",
              "      <td>california is usually quiet during march , and...</td>\n",
              "      <td>california est généralement calme en mars , et...</td>\n",
              "    </tr>\n",
              "    <tr>\n",
              "      <th>3</th>\n",
              "      <td>the united states is sometimes mild during jun...</td>\n",
              "      <td>les états-unis est parfois légère en juin , et...</td>\n",
              "    </tr>\n",
              "    <tr>\n",
              "      <th>4</th>\n",
              "      <td>your least liked fruit is the grape , but my l...</td>\n",
              "      <td>votre moins aimé fruit est le raisin , mais mo...</td>\n",
              "    </tr>\n",
              "    <tr>\n",
              "      <th>5</th>\n",
              "      <td>his favorite fruit is the orange , but my favo...</td>\n",
              "      <td>son fruit préféré est l'orange , mais mon préf...</td>\n",
              "    </tr>\n",
              "    <tr>\n",
              "      <th>6</th>\n",
              "      <td>paris is relaxing during december , but it is ...</td>\n",
              "      <td>paris est relaxant en décembre , mais il est g...</td>\n",
              "    </tr>\n",
              "    <tr>\n",
              "      <th>7</th>\n",
              "      <td>new jersey is busy during spring , and it is n...</td>\n",
              "      <td>new jersey est occupé au printemps , et il est...</td>\n",
              "    </tr>\n",
              "    <tr>\n",
              "      <th>8</th>\n",
              "      <td>our least liked fruit is the lemon , but my le...</td>\n",
              "      <td>notre fruit est moins aimé le citron , mais mo...</td>\n",
              "    </tr>\n",
              "    <tr>\n",
              "      <th>9</th>\n",
              "      <td>the united states is sometimes busy during jan...</td>\n",
              "      <td>les états-unis est parfois occupé en janvier ,...</td>\n",
              "    </tr>\n",
              "  </tbody>\n",
              "</table>\n",
              "</div>\n",
              "      <button class=\"colab-df-convert\" onclick=\"convertToInteractive('df-04a56267-c748-47db-99ec-cc0e7cabc6fc')\"\n",
              "              title=\"Convert this dataframe to an interactive table.\"\n",
              "              style=\"display:none;\">\n",
              "        \n",
              "  <svg xmlns=\"http://www.w3.org/2000/svg\" height=\"24px\"viewBox=\"0 0 24 24\"\n",
              "       width=\"24px\">\n",
              "    <path d=\"M0 0h24v24H0V0z\" fill=\"none\"/>\n",
              "    <path d=\"M18.56 5.44l.94 2.06.94-2.06 2.06-.94-2.06-.94-.94-2.06-.94 2.06-2.06.94zm-11 1L8.5 8.5l.94-2.06 2.06-.94-2.06-.94L8.5 2.5l-.94 2.06-2.06.94zm10 10l.94 2.06.94-2.06 2.06-.94-2.06-.94-.94-2.06-.94 2.06-2.06.94z\"/><path d=\"M17.41 7.96l-1.37-1.37c-.4-.4-.92-.59-1.43-.59-.52 0-1.04.2-1.43.59L10.3 9.45l-7.72 7.72c-.78.78-.78 2.05 0 2.83L4 21.41c.39.39.9.59 1.41.59.51 0 1.02-.2 1.41-.59l7.78-7.78 2.81-2.81c.8-.78.8-2.07 0-2.86zM5.41 20L4 18.59l7.72-7.72 1.47 1.35L5.41 20z\"/>\n",
              "  </svg>\n",
              "      </button>\n",
              "      \n",
              "  <style>\n",
              "    .colab-df-container {\n",
              "      display:flex;\n",
              "      flex-wrap:wrap;\n",
              "      gap: 12px;\n",
              "    }\n",
              "\n",
              "    .colab-df-convert {\n",
              "      background-color: #E8F0FE;\n",
              "      border: none;\n",
              "      border-radius: 50%;\n",
              "      cursor: pointer;\n",
              "      display: none;\n",
              "      fill: #1967D2;\n",
              "      height: 32px;\n",
              "      padding: 0 0 0 0;\n",
              "      width: 32px;\n",
              "    }\n",
              "\n",
              "    .colab-df-convert:hover {\n",
              "      background-color: #E2EBFA;\n",
              "      box-shadow: 0px 1px 2px rgba(60, 64, 67, 0.3), 0px 1px 3px 1px rgba(60, 64, 67, 0.15);\n",
              "      fill: #174EA6;\n",
              "    }\n",
              "\n",
              "    [theme=dark] .colab-df-convert {\n",
              "      background-color: #3B4455;\n",
              "      fill: #D2E3FC;\n",
              "    }\n",
              "\n",
              "    [theme=dark] .colab-df-convert:hover {\n",
              "      background-color: #434B5C;\n",
              "      box-shadow: 0px 1px 3px 1px rgba(0, 0, 0, 0.15);\n",
              "      filter: drop-shadow(0px 1px 2px rgba(0, 0, 0, 0.3));\n",
              "      fill: #FFFFFF;\n",
              "    }\n",
              "  </style>\n",
              "\n",
              "      <script>\n",
              "        const buttonEl =\n",
              "          document.querySelector('#df-04a56267-c748-47db-99ec-cc0e7cabc6fc button.colab-df-convert');\n",
              "        buttonEl.style.display =\n",
              "          google.colab.kernel.accessAllowed ? 'block' : 'none';\n",
              "\n",
              "        async function convertToInteractive(key) {\n",
              "          const element = document.querySelector('#df-04a56267-c748-47db-99ec-cc0e7cabc6fc');\n",
              "          const dataTable =\n",
              "            await google.colab.kernel.invokeFunction('convertToInteractive',\n",
              "                                                     [key], {});\n",
              "          if (!dataTable) return;\n",
              "\n",
              "          const docLinkHtml = 'Like what you see? Visit the ' +\n",
              "            '<a target=\"_blank\" href=https://colab.research.google.com/notebooks/data_table.ipynb>data table notebook</a>'\n",
              "            + ' to learn more about interactive tables.';\n",
              "          element.innerHTML = '';\n",
              "          dataTable['output_type'] = 'display_data';\n",
              "          await google.colab.output.renderOutput(dataTable, element);\n",
              "          const docLink = document.createElement('div');\n",
              "          docLink.innerHTML = docLinkHtml;\n",
              "          element.appendChild(docLink);\n",
              "        }\n",
              "      </script>\n",
              "    </div>\n",
              "  </div>\n",
              "  "
            ]
          },
          "metadata": {},
          "execution_count": 8
        }
      ]
    },
    {
      "cell_type": "markdown",
      "source": [
        "Let's name the columns as **English** and **French** so that we access them easier."
      ],
      "metadata": {
        "id": "nAr_caXkwwE7"
      }
    },
    {
      "cell_type": "code",
      "execution_count": null,
      "metadata": {
        "id": "eOHiQDXx3jFS",
        "colab": {
          "base_uri": "https://localhost:8080/",
          "height": 206
        },
        "outputId": "a892796b-1d26-4f79-83a5-877415033431"
      },
      "outputs": [
        {
          "output_type": "execute_result",
          "data": {
            "text/plain": [
              "                                             English  \\\n",
              "0  new jersey is sometimes quiet during autumn , ...   \n",
              "1  the united states is usually chilly during jul...   \n",
              "2  california is usually quiet during march , and...   \n",
              "3  the united states is sometimes mild during jun...   \n",
              "4  your least liked fruit is the grape , but my l...   \n",
              "\n",
              "                                              French  \n",
              "0  new jersey est parfois calme pendant l' automn...  \n",
              "1  les états-unis est généralement froid en juill...  \n",
              "2  california est généralement calme en mars , et...  \n",
              "3  les états-unis est parfois légère en juin , et...  \n",
              "4  votre moins aimé fruit est le raisin , mais mo...  "
            ],
            "text/html": [
              "\n",
              "  <div id=\"df-8b30fc2f-6b8b-4954-8c36-8cd2457dbc8b\">\n",
              "    <div class=\"colab-df-container\">\n",
              "      <div>\n",
              "<style scoped>\n",
              "    .dataframe tbody tr th:only-of-type {\n",
              "        vertical-align: middle;\n",
              "    }\n",
              "\n",
              "    .dataframe tbody tr th {\n",
              "        vertical-align: top;\n",
              "    }\n",
              "\n",
              "    .dataframe thead th {\n",
              "        text-align: right;\n",
              "    }\n",
              "</style>\n",
              "<table border=\"1\" class=\"dataframe\">\n",
              "  <thead>\n",
              "    <tr style=\"text-align: right;\">\n",
              "      <th></th>\n",
              "      <th>English</th>\n",
              "      <th>French</th>\n",
              "    </tr>\n",
              "  </thead>\n",
              "  <tbody>\n",
              "    <tr>\n",
              "      <th>0</th>\n",
              "      <td>new jersey is sometimes quiet during autumn , ...</td>\n",
              "      <td>new jersey est parfois calme pendant l' automn...</td>\n",
              "    </tr>\n",
              "    <tr>\n",
              "      <th>1</th>\n",
              "      <td>the united states is usually chilly during jul...</td>\n",
              "      <td>les états-unis est généralement froid en juill...</td>\n",
              "    </tr>\n",
              "    <tr>\n",
              "      <th>2</th>\n",
              "      <td>california is usually quiet during march , and...</td>\n",
              "      <td>california est généralement calme en mars , et...</td>\n",
              "    </tr>\n",
              "    <tr>\n",
              "      <th>3</th>\n",
              "      <td>the united states is sometimes mild during jun...</td>\n",
              "      <td>les états-unis est parfois légère en juin , et...</td>\n",
              "    </tr>\n",
              "    <tr>\n",
              "      <th>4</th>\n",
              "      <td>your least liked fruit is the grape , but my l...</td>\n",
              "      <td>votre moins aimé fruit est le raisin , mais mo...</td>\n",
              "    </tr>\n",
              "  </tbody>\n",
              "</table>\n",
              "</div>\n",
              "      <button class=\"colab-df-convert\" onclick=\"convertToInteractive('df-8b30fc2f-6b8b-4954-8c36-8cd2457dbc8b')\"\n",
              "              title=\"Convert this dataframe to an interactive table.\"\n",
              "              style=\"display:none;\">\n",
              "        \n",
              "  <svg xmlns=\"http://www.w3.org/2000/svg\" height=\"24px\"viewBox=\"0 0 24 24\"\n",
              "       width=\"24px\">\n",
              "    <path d=\"M0 0h24v24H0V0z\" fill=\"none\"/>\n",
              "    <path d=\"M18.56 5.44l.94 2.06.94-2.06 2.06-.94-2.06-.94-.94-2.06-.94 2.06-2.06.94zm-11 1L8.5 8.5l.94-2.06 2.06-.94-2.06-.94L8.5 2.5l-.94 2.06-2.06.94zm10 10l.94 2.06.94-2.06 2.06-.94-2.06-.94-.94-2.06-.94 2.06-2.06.94z\"/><path d=\"M17.41 7.96l-1.37-1.37c-.4-.4-.92-.59-1.43-.59-.52 0-1.04.2-1.43.59L10.3 9.45l-7.72 7.72c-.78.78-.78 2.05 0 2.83L4 21.41c.39.39.9.59 1.41.59.51 0 1.02-.2 1.41-.59l7.78-7.78 2.81-2.81c.8-.78.8-2.07 0-2.86zM5.41 20L4 18.59l7.72-7.72 1.47 1.35L5.41 20z\"/>\n",
              "  </svg>\n",
              "      </button>\n",
              "      \n",
              "  <style>\n",
              "    .colab-df-container {\n",
              "      display:flex;\n",
              "      flex-wrap:wrap;\n",
              "      gap: 12px;\n",
              "    }\n",
              "\n",
              "    .colab-df-convert {\n",
              "      background-color: #E8F0FE;\n",
              "      border: none;\n",
              "      border-radius: 50%;\n",
              "      cursor: pointer;\n",
              "      display: none;\n",
              "      fill: #1967D2;\n",
              "      height: 32px;\n",
              "      padding: 0 0 0 0;\n",
              "      width: 32px;\n",
              "    }\n",
              "\n",
              "    .colab-df-convert:hover {\n",
              "      background-color: #E2EBFA;\n",
              "      box-shadow: 0px 1px 2px rgba(60, 64, 67, 0.3), 0px 1px 3px 1px rgba(60, 64, 67, 0.15);\n",
              "      fill: #174EA6;\n",
              "    }\n",
              "\n",
              "    [theme=dark] .colab-df-convert {\n",
              "      background-color: #3B4455;\n",
              "      fill: #D2E3FC;\n",
              "    }\n",
              "\n",
              "    [theme=dark] .colab-df-convert:hover {\n",
              "      background-color: #434B5C;\n",
              "      box-shadow: 0px 1px 3px 1px rgba(0, 0, 0, 0.15);\n",
              "      filter: drop-shadow(0px 1px 2px rgba(0, 0, 0, 0.3));\n",
              "      fill: #FFFFFF;\n",
              "    }\n",
              "  </style>\n",
              "\n",
              "      <script>\n",
              "        const buttonEl =\n",
              "          document.querySelector('#df-8b30fc2f-6b8b-4954-8c36-8cd2457dbc8b button.colab-df-convert');\n",
              "        buttonEl.style.display =\n",
              "          google.colab.kernel.accessAllowed ? 'block' : 'none';\n",
              "\n",
              "        async function convertToInteractive(key) {\n",
              "          const element = document.querySelector('#df-8b30fc2f-6b8b-4954-8c36-8cd2457dbc8b');\n",
              "          const dataTable =\n",
              "            await google.colab.kernel.invokeFunction('convertToInteractive',\n",
              "                                                     [key], {});\n",
              "          if (!dataTable) return;\n",
              "\n",
              "          const docLinkHtml = 'Like what you see? Visit the ' +\n",
              "            '<a target=\"_blank\" href=https://colab.research.google.com/notebooks/data_table.ipynb>data table notebook</a>'\n",
              "            + ' to learn more about interactive tables.';\n",
              "          element.innerHTML = '';\n",
              "          dataTable['output_type'] = 'display_data';\n",
              "          await google.colab.output.renderOutput(dataTable, element);\n",
              "          const docLink = document.createElement('div');\n",
              "          docLink.innerHTML = docLinkHtml;\n",
              "          element.appendChild(docLink);\n",
              "        }\n",
              "      </script>\n",
              "    </div>\n",
              "  </div>\n",
              "  "
            ]
          },
          "metadata": {},
          "execution_count": 9
        }
      ],
      "source": [
        "#Test Your Zaka\n",
        "df.columns=['English','French']\n",
        "df.head()"
      ]
    },
    {
      "cell_type": "markdown",
      "source": [
        "Pick a sentence and print it in both languages"
      ],
      "metadata": {
        "id": "4xc1TsEHw9yC"
      }
    },
    {
      "cell_type": "code",
      "execution_count": null,
      "metadata": {
        "id": "QuRVWch23ujo",
        "colab": {
          "base_uri": "https://localhost:8080/",
          "height": 81
        },
        "outputId": "b06b95c5-d00f-4894-cc17-b51e09cdca68"
      },
      "outputs": [
        {
          "output_type": "execute_result",
          "data": {
            "text/plain": [
              "                                             English  \\\n",
              "2  california is usually quiet during march , and...   \n",
              "\n",
              "                                              French  \n",
              "2  california est généralement calme en mars , et...  "
            ],
            "text/html": [
              "\n",
              "  <div id=\"df-d9ada4af-cb26-4510-a33a-9a934e59b399\">\n",
              "    <div class=\"colab-df-container\">\n",
              "      <div>\n",
              "<style scoped>\n",
              "    .dataframe tbody tr th:only-of-type {\n",
              "        vertical-align: middle;\n",
              "    }\n",
              "\n",
              "    .dataframe tbody tr th {\n",
              "        vertical-align: top;\n",
              "    }\n",
              "\n",
              "    .dataframe thead th {\n",
              "        text-align: right;\n",
              "    }\n",
              "</style>\n",
              "<table border=\"1\" class=\"dataframe\">\n",
              "  <thead>\n",
              "    <tr style=\"text-align: right;\">\n",
              "      <th></th>\n",
              "      <th>English</th>\n",
              "      <th>French</th>\n",
              "    </tr>\n",
              "  </thead>\n",
              "  <tbody>\n",
              "    <tr>\n",
              "      <th>2</th>\n",
              "      <td>california is usually quiet during march , and...</td>\n",
              "      <td>california est généralement calme en mars , et...</td>\n",
              "    </tr>\n",
              "  </tbody>\n",
              "</table>\n",
              "</div>\n",
              "      <button class=\"colab-df-convert\" onclick=\"convertToInteractive('df-d9ada4af-cb26-4510-a33a-9a934e59b399')\"\n",
              "              title=\"Convert this dataframe to an interactive table.\"\n",
              "              style=\"display:none;\">\n",
              "        \n",
              "  <svg xmlns=\"http://www.w3.org/2000/svg\" height=\"24px\"viewBox=\"0 0 24 24\"\n",
              "       width=\"24px\">\n",
              "    <path d=\"M0 0h24v24H0V0z\" fill=\"none\"/>\n",
              "    <path d=\"M18.56 5.44l.94 2.06.94-2.06 2.06-.94-2.06-.94-.94-2.06-.94 2.06-2.06.94zm-11 1L8.5 8.5l.94-2.06 2.06-.94-2.06-.94L8.5 2.5l-.94 2.06-2.06.94zm10 10l.94 2.06.94-2.06 2.06-.94-2.06-.94-.94-2.06-.94 2.06-2.06.94z\"/><path d=\"M17.41 7.96l-1.37-1.37c-.4-.4-.92-.59-1.43-.59-.52 0-1.04.2-1.43.59L10.3 9.45l-7.72 7.72c-.78.78-.78 2.05 0 2.83L4 21.41c.39.39.9.59 1.41.59.51 0 1.02-.2 1.41-.59l7.78-7.78 2.81-2.81c.8-.78.8-2.07 0-2.86zM5.41 20L4 18.59l7.72-7.72 1.47 1.35L5.41 20z\"/>\n",
              "  </svg>\n",
              "      </button>\n",
              "      \n",
              "  <style>\n",
              "    .colab-df-container {\n",
              "      display:flex;\n",
              "      flex-wrap:wrap;\n",
              "      gap: 12px;\n",
              "    }\n",
              "\n",
              "    .colab-df-convert {\n",
              "      background-color: #E8F0FE;\n",
              "      border: none;\n",
              "      border-radius: 50%;\n",
              "      cursor: pointer;\n",
              "      display: none;\n",
              "      fill: #1967D2;\n",
              "      height: 32px;\n",
              "      padding: 0 0 0 0;\n",
              "      width: 32px;\n",
              "    }\n",
              "\n",
              "    .colab-df-convert:hover {\n",
              "      background-color: #E2EBFA;\n",
              "      box-shadow: 0px 1px 2px rgba(60, 64, 67, 0.3), 0px 1px 3px 1px rgba(60, 64, 67, 0.15);\n",
              "      fill: #174EA6;\n",
              "    }\n",
              "\n",
              "    [theme=dark] .colab-df-convert {\n",
              "      background-color: #3B4455;\n",
              "      fill: #D2E3FC;\n",
              "    }\n",
              "\n",
              "    [theme=dark] .colab-df-convert:hover {\n",
              "      background-color: #434B5C;\n",
              "      box-shadow: 0px 1px 3px 1px rgba(0, 0, 0, 0.15);\n",
              "      filter: drop-shadow(0px 1px 2px rgba(0, 0, 0, 0.3));\n",
              "      fill: #FFFFFF;\n",
              "    }\n",
              "  </style>\n",
              "\n",
              "      <script>\n",
              "        const buttonEl =\n",
              "          document.querySelector('#df-d9ada4af-cb26-4510-a33a-9a934e59b399 button.colab-df-convert');\n",
              "        buttonEl.style.display =\n",
              "          google.colab.kernel.accessAllowed ? 'block' : 'none';\n",
              "\n",
              "        async function convertToInteractive(key) {\n",
              "          const element = document.querySelector('#df-d9ada4af-cb26-4510-a33a-9a934e59b399');\n",
              "          const dataTable =\n",
              "            await google.colab.kernel.invokeFunction('convertToInteractive',\n",
              "                                                     [key], {});\n",
              "          if (!dataTable) return;\n",
              "\n",
              "          const docLinkHtml = 'Like what you see? Visit the ' +\n",
              "            '<a target=\"_blank\" href=https://colab.research.google.com/notebooks/data_table.ipynb>data table notebook</a>'\n",
              "            + ' to learn more about interactive tables.';\n",
              "          element.innerHTML = '';\n",
              "          dataTable['output_type'] = 'display_data';\n",
              "          await google.colab.output.renderOutput(dataTable, element);\n",
              "          const docLink = document.createElement('div');\n",
              "          docLink.innerHTML = docLinkHtml;\n",
              "          element.appendChild(docLink);\n",
              "        }\n",
              "      </script>\n",
              "    </div>\n",
              "  </div>\n",
              "  "
            ]
          },
          "metadata": {},
          "execution_count": 10
        }
      ],
      "source": [
        "#Test Your Zaka\n",
        "df.loc[[2]]"
      ]
    },
    {
      "cell_type": "markdown",
      "source": [
        "##Cleaning Data"
      ],
      "metadata": {
        "id": "FQjXYP1txFCi"
      }
    },
    {
      "cell_type": "markdown",
      "source": [
        "The data that we have is almost clean as we can see, we just need to remove the punctuations inside of it."
      ],
      "metadata": {
        "id": "xgz6jIoVxHUF"
      }
    },
    {
      "cell_type": "code",
      "source": [
        "df['English']=df['English'].str.replace(r'[^\\w\\s]+', '')\n",
        "df['French']=df['French'].str.replace(r'[^\\w\\s]+', '')"
      ],
      "metadata": {
        "colab": {
          "base_uri": "https://localhost:8080/"
        },
        "id": "O6Kdn1cfpl4P",
        "outputId": "59ae33e3-5148-4581-b7f9-1796da01394c"
      },
      "execution_count": null,
      "outputs": [
        {
          "output_type": "stream",
          "name": "stderr",
          "text": [
            "/usr/local/lib/python3.7/dist-packages/ipykernel_launcher.py:1: FutureWarning: The default value of regex will change from True to False in a future version.\n",
            "  \"\"\"Entry point for launching an IPython kernel.\n",
            "/usr/local/lib/python3.7/dist-packages/ipykernel_launcher.py:2: FutureWarning: The default value of regex will change from True to False in a future version.\n",
            "  \n"
          ]
        }
      ]
    },
    {
      "cell_type": "markdown",
      "source": [
        "Make sure that the punctuation is removed by printing the example that you printed earlier."
      ],
      "metadata": {
        "id": "0C1qsC9LxZPb"
      }
    },
    {
      "cell_type": "code",
      "execution_count": null,
      "metadata": {
        "id": "T80tiWxe84G7",
        "colab": {
          "base_uri": "https://localhost:8080/",
          "height": 81
        },
        "outputId": "82a8cbe2-ce7a-4446-d8b1-3728bbf443be"
      },
      "outputs": [
        {
          "output_type": "execute_result",
          "data": {
            "text/plain": [
              "                                             English  \\\n",
              "2  california is usually quiet during march  and ...   \n",
              "\n",
              "                                              French  \n",
              "2  california est généralement calme en mars  et ...  "
            ],
            "text/html": [
              "\n",
              "  <div id=\"df-173d1a04-c333-44b9-bc63-19ac9d8c5f85\">\n",
              "    <div class=\"colab-df-container\">\n",
              "      <div>\n",
              "<style scoped>\n",
              "    .dataframe tbody tr th:only-of-type {\n",
              "        vertical-align: middle;\n",
              "    }\n",
              "\n",
              "    .dataframe tbody tr th {\n",
              "        vertical-align: top;\n",
              "    }\n",
              "\n",
              "    .dataframe thead th {\n",
              "        text-align: right;\n",
              "    }\n",
              "</style>\n",
              "<table border=\"1\" class=\"dataframe\">\n",
              "  <thead>\n",
              "    <tr style=\"text-align: right;\">\n",
              "      <th></th>\n",
              "      <th>English</th>\n",
              "      <th>French</th>\n",
              "    </tr>\n",
              "  </thead>\n",
              "  <tbody>\n",
              "    <tr>\n",
              "      <th>2</th>\n",
              "      <td>california is usually quiet during march  and ...</td>\n",
              "      <td>california est généralement calme en mars  et ...</td>\n",
              "    </tr>\n",
              "  </tbody>\n",
              "</table>\n",
              "</div>\n",
              "      <button class=\"colab-df-convert\" onclick=\"convertToInteractive('df-173d1a04-c333-44b9-bc63-19ac9d8c5f85')\"\n",
              "              title=\"Convert this dataframe to an interactive table.\"\n",
              "              style=\"display:none;\">\n",
              "        \n",
              "  <svg xmlns=\"http://www.w3.org/2000/svg\" height=\"24px\"viewBox=\"0 0 24 24\"\n",
              "       width=\"24px\">\n",
              "    <path d=\"M0 0h24v24H0V0z\" fill=\"none\"/>\n",
              "    <path d=\"M18.56 5.44l.94 2.06.94-2.06 2.06-.94-2.06-.94-.94-2.06-.94 2.06-2.06.94zm-11 1L8.5 8.5l.94-2.06 2.06-.94-2.06-.94L8.5 2.5l-.94 2.06-2.06.94zm10 10l.94 2.06.94-2.06 2.06-.94-2.06-.94-.94-2.06-.94 2.06-2.06.94z\"/><path d=\"M17.41 7.96l-1.37-1.37c-.4-.4-.92-.59-1.43-.59-.52 0-1.04.2-1.43.59L10.3 9.45l-7.72 7.72c-.78.78-.78 2.05 0 2.83L4 21.41c.39.39.9.59 1.41.59.51 0 1.02-.2 1.41-.59l7.78-7.78 2.81-2.81c.8-.78.8-2.07 0-2.86zM5.41 20L4 18.59l7.72-7.72 1.47 1.35L5.41 20z\"/>\n",
              "  </svg>\n",
              "      </button>\n",
              "      \n",
              "  <style>\n",
              "    .colab-df-container {\n",
              "      display:flex;\n",
              "      flex-wrap:wrap;\n",
              "      gap: 12px;\n",
              "    }\n",
              "\n",
              "    .colab-df-convert {\n",
              "      background-color: #E8F0FE;\n",
              "      border: none;\n",
              "      border-radius: 50%;\n",
              "      cursor: pointer;\n",
              "      display: none;\n",
              "      fill: #1967D2;\n",
              "      height: 32px;\n",
              "      padding: 0 0 0 0;\n",
              "      width: 32px;\n",
              "    }\n",
              "\n",
              "    .colab-df-convert:hover {\n",
              "      background-color: #E2EBFA;\n",
              "      box-shadow: 0px 1px 2px rgba(60, 64, 67, 0.3), 0px 1px 3px 1px rgba(60, 64, 67, 0.15);\n",
              "      fill: #174EA6;\n",
              "    }\n",
              "\n",
              "    [theme=dark] .colab-df-convert {\n",
              "      background-color: #3B4455;\n",
              "      fill: #D2E3FC;\n",
              "    }\n",
              "\n",
              "    [theme=dark] .colab-df-convert:hover {\n",
              "      background-color: #434B5C;\n",
              "      box-shadow: 0px 1px 3px 1px rgba(0, 0, 0, 0.15);\n",
              "      filter: drop-shadow(0px 1px 2px rgba(0, 0, 0, 0.3));\n",
              "      fill: #FFFFFF;\n",
              "    }\n",
              "  </style>\n",
              "\n",
              "      <script>\n",
              "        const buttonEl =\n",
              "          document.querySelector('#df-173d1a04-c333-44b9-bc63-19ac9d8c5f85 button.colab-df-convert');\n",
              "        buttonEl.style.display =\n",
              "          google.colab.kernel.accessAllowed ? 'block' : 'none';\n",
              "\n",
              "        async function convertToInteractive(key) {\n",
              "          const element = document.querySelector('#df-173d1a04-c333-44b9-bc63-19ac9d8c5f85');\n",
              "          const dataTable =\n",
              "            await google.colab.kernel.invokeFunction('convertToInteractive',\n",
              "                                                     [key], {});\n",
              "          if (!dataTable) return;\n",
              "\n",
              "          const docLinkHtml = 'Like what you see? Visit the ' +\n",
              "            '<a target=\"_blank\" href=https://colab.research.google.com/notebooks/data_table.ipynb>data table notebook</a>'\n",
              "            + ' to learn more about interactive tables.';\n",
              "          element.innerHTML = '';\n",
              "          dataTable['output_type'] = 'display_data';\n",
              "          await google.colab.output.renderOutput(dataTable, element);\n",
              "          const docLink = document.createElement('div');\n",
              "          docLink.innerHTML = docLinkHtml;\n",
              "          element.appendChild(docLink);\n",
              "        }\n",
              "      </script>\n",
              "    </div>\n",
              "  </div>\n",
              "  "
            ]
          },
          "metadata": {},
          "execution_count": 12
        }
      ],
      "source": [
        "df.loc[[2]]"
      ]
    },
    {
      "cell_type": "markdown",
      "source": [
        "##Exploring the Data"
      ],
      "metadata": {
        "id": "ZuFNjoBAx4oN"
      }
    },
    {
      "cell_type": "markdown",
      "source": [
        "Add a column **ENG Length** to the dataset that shows how many words does a sentence contain, and do the same for french in a column called **FR Length**"
      ],
      "metadata": {
        "id": "ATfefzPExi2k"
      }
    },
    {
      "cell_type": "code",
      "source": [
        "df['ENG Length'] = df['English'].str.split().apply(len)"
      ],
      "metadata": {
        "id": "I8efOJHKD9an"
      },
      "execution_count": null,
      "outputs": []
    },
    {
      "cell_type": "code",
      "source": [
        "df['FR Length'] = df['French'].str.split().apply(len)"
      ],
      "metadata": {
        "id": "fc2bQ74REWro"
      },
      "execution_count": null,
      "outputs": []
    },
    {
      "cell_type": "code",
      "source": [
        "df.head()"
      ],
      "metadata": {
        "colab": {
          "base_uri": "https://localhost:8080/",
          "height": 206
        },
        "id": "mMEQCBBtDSr-",
        "outputId": "e256dfde-ed36-4a3f-ee64-c2ac381b6bda"
      },
      "execution_count": null,
      "outputs": [
        {
          "output_type": "execute_result",
          "data": {
            "text/plain": [
              "                                             English  \\\n",
              "0  new jersey is sometimes quiet during autumn  a...   \n",
              "1  the united states is usually chilly during jul...   \n",
              "2  california is usually quiet during march  and ...   \n",
              "3  the united states is sometimes mild during jun...   \n",
              "4  your least liked fruit is the grape  but my le...   \n",
              "\n",
              "                                              French  ENG Length  FR Length  \n",
              "0  new jersey est parfois calme pendant l automne...          13         14  \n",
              "1  les étatsunis est généralement froid en juille...          15         13  \n",
              "2  california est généralement calme en mars  et ...          13         13  \n",
              "3  les étatsunis est parfois légère en juin  et i...          14         13  \n",
              "4  votre moins aimé fruit est le raisin  mais mon...          14         14  "
            ],
            "text/html": [
              "\n",
              "  <div id=\"df-2d0f3373-5a9c-41a6-8442-a43a7fceda2a\">\n",
              "    <div class=\"colab-df-container\">\n",
              "      <div>\n",
              "<style scoped>\n",
              "    .dataframe tbody tr th:only-of-type {\n",
              "        vertical-align: middle;\n",
              "    }\n",
              "\n",
              "    .dataframe tbody tr th {\n",
              "        vertical-align: top;\n",
              "    }\n",
              "\n",
              "    .dataframe thead th {\n",
              "        text-align: right;\n",
              "    }\n",
              "</style>\n",
              "<table border=\"1\" class=\"dataframe\">\n",
              "  <thead>\n",
              "    <tr style=\"text-align: right;\">\n",
              "      <th></th>\n",
              "      <th>English</th>\n",
              "      <th>French</th>\n",
              "      <th>ENG Length</th>\n",
              "      <th>FR Length</th>\n",
              "    </tr>\n",
              "  </thead>\n",
              "  <tbody>\n",
              "    <tr>\n",
              "      <th>0</th>\n",
              "      <td>new jersey is sometimes quiet during autumn  a...</td>\n",
              "      <td>new jersey est parfois calme pendant l automne...</td>\n",
              "      <td>13</td>\n",
              "      <td>14</td>\n",
              "    </tr>\n",
              "    <tr>\n",
              "      <th>1</th>\n",
              "      <td>the united states is usually chilly during jul...</td>\n",
              "      <td>les étatsunis est généralement froid en juille...</td>\n",
              "      <td>15</td>\n",
              "      <td>13</td>\n",
              "    </tr>\n",
              "    <tr>\n",
              "      <th>2</th>\n",
              "      <td>california is usually quiet during march  and ...</td>\n",
              "      <td>california est généralement calme en mars  et ...</td>\n",
              "      <td>13</td>\n",
              "      <td>13</td>\n",
              "    </tr>\n",
              "    <tr>\n",
              "      <th>3</th>\n",
              "      <td>the united states is sometimes mild during jun...</td>\n",
              "      <td>les étatsunis est parfois légère en juin  et i...</td>\n",
              "      <td>14</td>\n",
              "      <td>13</td>\n",
              "    </tr>\n",
              "    <tr>\n",
              "      <th>4</th>\n",
              "      <td>your least liked fruit is the grape  but my le...</td>\n",
              "      <td>votre moins aimé fruit est le raisin  mais mon...</td>\n",
              "      <td>14</td>\n",
              "      <td>14</td>\n",
              "    </tr>\n",
              "  </tbody>\n",
              "</table>\n",
              "</div>\n",
              "      <button class=\"colab-df-convert\" onclick=\"convertToInteractive('df-2d0f3373-5a9c-41a6-8442-a43a7fceda2a')\"\n",
              "              title=\"Convert this dataframe to an interactive table.\"\n",
              "              style=\"display:none;\">\n",
              "        \n",
              "  <svg xmlns=\"http://www.w3.org/2000/svg\" height=\"24px\"viewBox=\"0 0 24 24\"\n",
              "       width=\"24px\">\n",
              "    <path d=\"M0 0h24v24H0V0z\" fill=\"none\"/>\n",
              "    <path d=\"M18.56 5.44l.94 2.06.94-2.06 2.06-.94-2.06-.94-.94-2.06-.94 2.06-2.06.94zm-11 1L8.5 8.5l.94-2.06 2.06-.94-2.06-.94L8.5 2.5l-.94 2.06-2.06.94zm10 10l.94 2.06.94-2.06 2.06-.94-2.06-.94-.94-2.06-.94 2.06-2.06.94z\"/><path d=\"M17.41 7.96l-1.37-1.37c-.4-.4-.92-.59-1.43-.59-.52 0-1.04.2-1.43.59L10.3 9.45l-7.72 7.72c-.78.78-.78 2.05 0 2.83L4 21.41c.39.39.9.59 1.41.59.51 0 1.02-.2 1.41-.59l7.78-7.78 2.81-2.81c.8-.78.8-2.07 0-2.86zM5.41 20L4 18.59l7.72-7.72 1.47 1.35L5.41 20z\"/>\n",
              "  </svg>\n",
              "      </button>\n",
              "      \n",
              "  <style>\n",
              "    .colab-df-container {\n",
              "      display:flex;\n",
              "      flex-wrap:wrap;\n",
              "      gap: 12px;\n",
              "    }\n",
              "\n",
              "    .colab-df-convert {\n",
              "      background-color: #E8F0FE;\n",
              "      border: none;\n",
              "      border-radius: 50%;\n",
              "      cursor: pointer;\n",
              "      display: none;\n",
              "      fill: #1967D2;\n",
              "      height: 32px;\n",
              "      padding: 0 0 0 0;\n",
              "      width: 32px;\n",
              "    }\n",
              "\n",
              "    .colab-df-convert:hover {\n",
              "      background-color: #E2EBFA;\n",
              "      box-shadow: 0px 1px 2px rgba(60, 64, 67, 0.3), 0px 1px 3px 1px rgba(60, 64, 67, 0.15);\n",
              "      fill: #174EA6;\n",
              "    }\n",
              "\n",
              "    [theme=dark] .colab-df-convert {\n",
              "      background-color: #3B4455;\n",
              "      fill: #D2E3FC;\n",
              "    }\n",
              "\n",
              "    [theme=dark] .colab-df-convert:hover {\n",
              "      background-color: #434B5C;\n",
              "      box-shadow: 0px 1px 3px 1px rgba(0, 0, 0, 0.15);\n",
              "      filter: drop-shadow(0px 1px 2px rgba(0, 0, 0, 0.3));\n",
              "      fill: #FFFFFF;\n",
              "    }\n",
              "  </style>\n",
              "\n",
              "      <script>\n",
              "        const buttonEl =\n",
              "          document.querySelector('#df-2d0f3373-5a9c-41a6-8442-a43a7fceda2a button.colab-df-convert');\n",
              "        buttonEl.style.display =\n",
              "          google.colab.kernel.accessAllowed ? 'block' : 'none';\n",
              "\n",
              "        async function convertToInteractive(key) {\n",
              "          const element = document.querySelector('#df-2d0f3373-5a9c-41a6-8442-a43a7fceda2a');\n",
              "          const dataTable =\n",
              "            await google.colab.kernel.invokeFunction('convertToInteractive',\n",
              "                                                     [key], {});\n",
              "          if (!dataTable) return;\n",
              "\n",
              "          const docLinkHtml = 'Like what you see? Visit the ' +\n",
              "            '<a target=\"_blank\" href=https://colab.research.google.com/notebooks/data_table.ipynb>data table notebook</a>'\n",
              "            + ' to learn more about interactive tables.';\n",
              "          element.innerHTML = '';\n",
              "          dataTable['output_type'] = 'display_data';\n",
              "          await google.colab.output.renderOutput(dataTable, element);\n",
              "          const docLink = document.createElement('div');\n",
              "          docLink.innerHTML = docLinkHtml;\n",
              "          element.appendChild(docLink);\n",
              "        }\n",
              "      </script>\n",
              "    </div>\n",
              "  </div>\n",
              "  "
            ]
          },
          "metadata": {},
          "execution_count": 15
        }
      ]
    },
    {
      "cell_type": "markdown",
      "source": [
        "Visualize the distribution of the lengths of english sentences and french sentences."
      ],
      "metadata": {
        "id": "AjQLW0K5xwx1"
      }
    },
    {
      "cell_type": "code",
      "execution_count": null,
      "metadata": {
        "id": "_q_UIMJ09L24",
        "colab": {
          "base_uri": "https://localhost:8080/",
          "height": 334
        },
        "outputId": "09de5e53-5ac3-418a-8ee1-383076a9ccfd"
      },
      "outputs": [
        {
          "output_type": "execute_result",
          "data": {
            "text/plain": [
              "(array([  283.,  2592., 26375.,  5122.,  1031.,   980.,  3535., 27009.,\n",
              "        34913., 36020.]),\n",
              " array([ 3. ,  4.2,  5.4,  6.6,  7.8,  9. , 10.2, 11.4, 12.6, 13.8, 15. ]),\n",
              " <a list of 10 Patch objects>)"
            ]
          },
          "metadata": {},
          "execution_count": 16
        },
        {
          "output_type": "display_data",
          "data": {
            "text/plain": [
              "<Figure size 432x288 with 1 Axes>"
            ],
            "image/png": "[encoded data removed]"
          },
          "metadata": {
            "needs_background": "light"
          }
        }
      ],
      "source": [
        "#Test Your Zaka\n",
        "import matplotlib.pyplot as plt\n",
        "plt.hist(df['ENG Length'])"
      ]
    },
    {
      "cell_type": "code",
      "execution_count": null,
      "metadata": {
        "id": "TSn4L7kW9R7g",
        "colab": {
          "base_uri": "https://localhost:8080/",
          "height": 334
        },
        "outputId": "ba038c10-1262-4933-a69e-b9ea32b2578b"
      },
      "outputs": [
        {
          "output_type": "execute_result",
          "data": {
            "text/plain": [
              "(array([3.5000e+01, 7.9300e+02, 1.0436e+04, 1.9905e+04, 8.2750e+03,\n",
              "        3.5887e+04, 5.3255e+04, 8.9480e+03, 3.2300e+02, 3.0000e+00]),\n",
              " array([ 2. ,  3.9,  5.8,  7.7,  9.6, 11.5, 13.4, 15.3, 17.2, 19.1, 21. ]),\n",
              " <a list of 10 Patch objects>)"
            ]
          },
          "metadata": {},
          "execution_count": 17
        },
        {
          "output_type": "display_data",
          "data": {
            "text/plain": [
              "<Figure size 432x288 with 1 Axes>"
            ],
            "image/png": "[encoded data removed]"
          },
          "metadata": {
            "needs_background": "light"
          }
        }
      ],
      "source": [
        "#Test Your Zaka\n",
        "import matplotlib.pyplot as plt\n",
        "plt.hist(df['FR Length'])"
      ]
    },
    {
      "cell_type": "markdown",
      "source": [
        "Get the maximum length of an english sentence and the maximum length of a french sentence. "
      ],
      "metadata": {
        "id": "BDXb2d9ix9DV"
      }
    },
    {
      "cell_type": "code",
      "execution_count": null,
      "metadata": {
        "id": "BpnBB04U_lHd",
        "colab": {
          "base_uri": "https://localhost:8080/"
        },
        "outputId": "9f26962c-a800-4017-8a8d-29c36cbd28fd"
      },
      "outputs": [
        {
          "output_type": "stream",
          "name": "stdout",
          "text": [
            "max length of an english sentence: 15\n",
            "max length of a french sentence: 21\n"
          ]
        }
      ],
      "source": [
        "#Test Your Zaka\n",
        "print('max length of an english sentence:',max(df['ENG Length']))\n",
        "print('max length of a french sentence:',max(df['FR Length']))"
      ]
    },
    {
      "cell_type": "markdown",
      "source": [
        "##Preprocessing the Data"
      ],
      "metadata": {
        "id": "s4s-spsRyGJv"
      }
    },
    {
      "cell_type": "markdown",
      "source": [
        "In order for the data to be fed to the model, it has to be tokenized and padded. "
      ],
      "metadata": {
        "id": "N0ZmIT2GyJMU"
      }
    },
    {
      "cell_type": "markdown",
      "source": [
        "####Tokenization"
      ],
      "metadata": {
        "id": "R0r9z-eErm9H"
      }
    },
    {
      "cell_type": "markdown",
      "source": [
        "**To tokenize english and french sentences, we can use only one tokenizer. True or False?**"
      ],
      "metadata": {
        "id": "X5L_zkhfyQuX"
      }
    },
    {
      "cell_type": "markdown",
      "source": [
        "*False, each should have different tokenizer*"
      ],
      "metadata": {
        "id": "1Z0ZcNOeyauD"
      }
    },
    {
      "cell_type": "markdown",
      "source": [
        "Tokenize the sentences that we have."
      ],
      "metadata": {
        "id": "814mKDFiymcY"
      }
    },
    {
      "cell_type": "code",
      "execution_count": null,
      "metadata": {
        "id": "aiXlciqFuQzW"
      },
      "outputs": [],
      "source": [
        "#Test Your Zaka\n",
        "from tensorflow.keras.preprocessing.text import Tokenizer\n",
        "\n",
        "#adding <START>  and <END> to the end of the output sentences, the current problem is that the enclosing characters are being removed from the tokens <START> is becoming start\n",
        "df['French']  = df['French'].apply(lambda x: '<START> ' +  x + ' <END>')\n",
        "\n",
        "engTokenizer = Tokenizer()\n",
        "engTokenizer.fit_on_texts(df['English'])\n",
        "\n",
        "frTokenizer=Tokenizer()\n",
        "frTokenizer.fit_on_texts(df['French'])"
      ]
    },
    {
      "cell_type": "markdown",
      "source": [
        "**How many unique words do we have in english and in french?**"
      ],
      "metadata": {
        "id": "aUN01jDXys9B"
      }
    },
    {
      "cell_type": "code",
      "execution_count": null,
      "metadata": {
        "id": "1WahkdzKvIlO",
        "colab": {
          "base_uri": "https://localhost:8080/"
        },
        "outputId": "b1328831-45e9-4603-df16-515772450458"
      },
      "outputs": [
        {
          "output_type": "stream",
          "name": "stdout",
          "text": [
            "number of unique english words: 199\n",
            "number of unique french words: 344\n"
          ]
        }
      ],
      "source": [
        "numberOfEnglishTokens=len(engTokenizer.word_index)\n",
        "numberOfFrenchTokens=len(frTokenizer.word_index)\n",
        "\n",
        "print('number of unique english words:',numberOfEnglishTokens)\n",
        "print('number of unique french words:',numberOfFrenchTokens-2)"
      ]
    },
    {
      "cell_type": "markdown",
      "source": [
        "####Padding"
      ],
      "metadata": {
        "id": "g0C2RJjArtJd"
      }
    },
    {
      "cell_type": "markdown",
      "source": [
        "**What should be the length of the sequences that we have after padding?**"
      ],
      "metadata": {
        "id": "vXdTXMo5y8oB"
      }
    },
    {
      "cell_type": "markdown",
      "source": [
        "*they should be 15 for english which is the maximum length of sentences in English, and 21 for French*"
      ],
      "metadata": {
        "id": "9wtHQsgXzImq"
      }
    },
    {
      "cell_type": "markdown",
      "source": [
        "Perform padding on the sequences that we have."
      ],
      "metadata": {
        "id": "hRXayRzVzQD4"
      }
    },
    {
      "cell_type": "code",
      "execution_count": null,
      "metadata": {
        "id": "oNdO9EZrxvmN"
      },
      "outputs": [],
      "source": [
        "#Test Your Zaka\n",
        "from tensorflow.keras.preprocessing.sequence import pad_sequences\n",
        "\n",
        "#list of representations of the sentences as a sequence of indices\n",
        "english_tokens=engTokenizer.texts_to_sequences(df['English'])\n",
        "#list of representations of the sentences as a sequence of indices\n",
        "french_tokens=frTokenizer.texts_to_sequences(df['French'])\n",
        "\n",
        "english_pad=pad_sequences(english_tokens, maxlen=15, padding='post')\n",
        "french_pad=pad_sequences(french_tokens, maxlen=21, padding='post')"
      ]
    },
    {
      "cell_type": "markdown",
      "source": [
        "##Modeling"
      ],
      "metadata": {
        "id": "JxvvVU3ezUHR"
      }
    },
    {
      "cell_type": "markdown",
      "source": [
        "After preprrocessing the data, we can build our model. Start by building a baseline architecture relying on one directional RNNs, LSTMs, or GRUs. It will be good to lookup how to build Seq2Seq models, there are some new layers that will help you like RepeatVector and TimeDistributed."
      ],
      "metadata": {
        "id": "FEKujJUEzVux"
      }
    },
    {
      "cell_type": "code",
      "execution_count": null,
      "metadata": {
        "id": "9oydzHkr3zDC",
        "colab": {
          "base_uri": "https://localhost:8080/"
        },
        "outputId": "2e6ded76-352f-47dd-8c83-0e7724d99684"
      },
      "outputs": [
        {
          "output_type": "stream",
          "name": "stdout",
          "text": [
            "Model: \"model\"\n",
            "__________________________________________________________________________________________________\n",
            " Layer (type)                   Output Shape         Param #     Connected to                     \n",
            "==================================================================================================\n",
            " input_1 (InputLayer)           [(None, None, 199)]  0           []                               \n",
            "                                                                                                  \n",
            " input_2 (InputLayer)           [(None, None, 346)]  0           []                               \n",
            "                                                                                                  \n",
            " lstm (LSTM)                    [(None, 256),        466944      ['input_1[0][0]']                \n",
            "                                 (None, 256),                                                     \n",
            "                                 (None, 256)]                                                     \n",
            "                                                                                                  \n",
            " lstm_1 (LSTM)                  [(None, None, 256),  617472      ['input_2[0][0]',                \n",
            "                                 (None, 256),                     'lstm[0][1]',                   \n",
            "                                 (None, 256)]                     'lstm[0][2]']                   \n",
            "                                                                                                  \n",
            " time_distributed (TimeDistribu  (None, None, 346)   88922       ['lstm_1[0][0]']                 \n",
            " ted)                                                                                             \n",
            "                                                                                                  \n",
            "==================================================================================================\n",
            "Total params: 1,173,338\n",
            "Trainable params: 1,173,338\n",
            "Non-trainable params: 0\n",
            "__________________________________________________________________________________________________\n"
          ]
        }
      ],
      "source": [
        "from keras.models import Model\n",
        "from keras.layers import Input, LSTM, Dense,TimeDistributed,Bidirectional\n",
        "\n",
        "HIDDEN_DIM = 256\n",
        "\n",
        "encoder_inputs = Input(shape=(None, numberOfEnglishTokens))\n",
        "encoder_LSTM = LSTM(units=HIDDEN_DIM, return_state=True) \n",
        "encoder_outputs, state_h, state_c = encoder_LSTM(encoder_inputs) # encoderの出力は無視する、memory cellの状態だけ保存\n",
        "encoder_states = [state_h, state_c]\n",
        "\n",
        "decoder_inputs = Input(shape=(None, numberOfFrenchTokens))\n",
        "decoder_LSTM = LSTM(units=HIDDEN_DIM, return_sequences=True, return_state=True)\n",
        "decoder_outputs, _h, _c = decoder_LSTM(decoder_inputs, initial_state=encoder_states)\n",
        "decoder_outputs = TimeDistributed(Dense(numberOfFrenchTokens, activation='softmax'))(decoder_outputs)\n",
        "\n",
        "model = Model([encoder_inputs, decoder_inputs], decoder_outputs)\n",
        "model.summary()"
      ]
    },
    {
      "cell_type": "markdown",
      "source": [
        "Compile and train the model. \n",
        "**FYI:** While specifying the architecture of your model and the number of epochs for training, keeep in your mind that your model might take A LOT of time to train."
      ],
      "metadata": {
        "id": "aP10HtNBzpT0"
      }
    },
    {
      "cell_type": "code",
      "source": [
        "import re\n",
        "\n",
        "#we shouldn't hardcode the numbers \n",
        "max_encoder_seq_length = 15\n",
        "#here I added 2 because of <START> and <END>\n",
        "max_decoder_seq_length = 23\n",
        "\n",
        "#sorting the dictionary keys in the format {\"token\" , id} alphabatically => this returns a list of sorted strinfs (we no longer have a dictionary)\n",
        "input_tokens = sorted(engTokenizer.word_index.keys(), key=lambda x:x.lower())\n",
        "\n",
        "#sorting the dictionary keys in the format {\"token\" , id} alphabatically\n",
        "target_tokens = sorted(frTokenizer.word_index.keys(), key=lambda x:x.lower())\n",
        "\n",
        "#traversing or looping over the tokens and assigning an index chronologically\n",
        "input_features_dict = dict(\n",
        "    [(token, i) for i, token in enumerate(input_tokens)])\n",
        "\n",
        "target_features_dict = dict(\n",
        "    [(token, i) for i, token in enumerate(target_tokens)])\n",
        "\n",
        "reverse_input_features_dict = dict(\n",
        "    (i, token) for token, i in input_features_dict.items())\n",
        "\n",
        "reverse_target_features_dict = dict(\n",
        "    (i, token) for token, i in target_features_dict.items())\n",
        "\n",
        "#fixing the dictionary keys because keras removed <>\n",
        "target_features_dict['<start>'] = target_features_dict.pop('start')\n",
        "target_features_dict['<end>'] = target_features_dict.pop('end')\n",
        "\n",
        "\n",
        "encoder_input_data = np.zeros(\n",
        "(len(df['English']), max_encoder_seq_length, numberOfEnglishTokens), dtype='float32')\n",
        "decoder_input_data = np.zeros(\n",
        "(len(df['English']), max_decoder_seq_length, numberOfFrenchTokens),\n",
        "dtype='float32')\n",
        "decoder_target_data = np.zeros(\n",
        "(len(df['English']), max_decoder_seq_length, numberOfFrenchTokens), dtype='float32')\n",
        "\n",
        "#traversing the list of sentences and one-hot incoding them\n",
        "#df['English'] is our list of english input sentences, df['French'] is our list of french output sentences\n",
        "for line, (input_doc, target_doc) in enumerate(zip(df['English'], df['French'])):\n",
        "  for timestep, token in enumerate(input_doc.lower().split()):\n",
        "    #Assign 1. for the current line, timestep, & word in encoder_input_data\n",
        "    encoder_input_data[line, timestep, input_features_dict[token]] = 1.\n",
        "  for timestep, token in enumerate(target_doc.lower().split()):\n",
        "    decoder_input_data[line, timestep, target_features_dict[token]] = 1.\n",
        "    if timestep > 0:\n",
        "      decoder_target_data[line, timestep - 1, target_features_dict[token]] = 1.\n"
      ],
      "metadata": {
        "id": "65k60zZKQpV-"
      },
      "execution_count": null,
      "outputs": []
    },
    {
      "cell_type": "code",
      "execution_count": 24,
      "metadata": {
        "id": "lWw4nBNIFp9D",
        "colab": {
          "base_uri": "https://localhost:8080/"
        },
        "outputId": "85690d62-aac0-402a-f937-21bdbda7ecc5"
      },
      "outputs": [
        {
          "output_type": "stream",
          "name": "stdout",
          "text": [
            "Epoch 1/8\n",
            "431/431 [==============================] - 389s 893ms/step - loss: 1.2633 - accuracy: 0.2528 - val_loss: 0.6780 - val_accuracy: 0.3523\n",
            "Epoch 2/8\n",
            "431/431 [==============================] - 380s 883ms/step - loss: 0.5716 - accuracy: 0.3800 - val_loss: 0.5151 - val_accuracy: 0.3959\n",
            "Epoch 3/8\n",
            "431/431 [==============================] - 382s 887ms/step - loss: 0.4523 - accuracy: 0.4216 - val_loss: 0.3740 - val_accuracy: 0.4526\n",
            "Epoch 4/8\n",
            "431/431 [==============================] - 380s 881ms/step - loss: 0.3133 - accuracy: 0.4774 - val_loss: 0.2404 - val_accuracy: 0.5023\n",
            "Epoch 5/8\n",
            "431/431 [==============================] - 374s 869ms/step - loss: 0.1709 - accuracy: 0.5262 - val_loss: 0.1019 - val_accuracy: 0.5489\n",
            "Epoch 6/8\n",
            "431/431 [==============================] - 376s 873ms/step - loss: 0.0674 - accuracy: 0.5604 - val_loss: 0.0442 - val_accuracy: 0.5669\n",
            "Epoch 7/8\n",
            "431/431 [==============================] - 376s 872ms/step - loss: 0.0383 - accuracy: 0.5691 - val_loss: 0.0309 - val_accuracy: 0.5702\n",
            "Epoch 8/8\n",
            "431/431 [==============================] - 376s 872ms/step - loss: 0.0265 - accuracy: 0.5724 - val_loss: 0.0510 - val_accuracy: 0.5665\n"
          ]
        },
        {
          "output_type": "execute_result",
          "data": {
            "text/plain": [
              "<keras.callbacks.History at 0x7f0ac39e4610>"
            ]
          },
          "metadata": {},
          "execution_count": 24
        }
      ],
      "source": [
        "model.compile(optimizer='rmsprop', loss='categorical_crossentropy',metrics= ['accuracy'])\n",
        "\n",
        "BATCH_SIZE = 256\n",
        "EPOCHS = 8\n",
        "model.fit([encoder_input_data, decoder_input_data], decoder_target_data,\n",
        "          batch_size=BATCH_SIZE,\n",
        "          epochs=EPOCHS,\n",
        "          validation_split=0.2)"
      ]
    },
    {
      "cell_type": "markdown",
      "source": [
        "Define a function that gets an input sentence in english and gives the output sentence in the french language."
      ],
      "metadata": {
        "id": "9UoEcxyJztiQ"
      }
    },
    {
      "cell_type": "code",
      "source": [
        "from keras.models import load_model\n",
        "model.save(\"model1\", save_format='h5')\n",
        "training_model = load_model('model1')\n",
        "encoder_inputs = training_model.input[0]\n",
        "encoder_outputs, state_h_enc, state_c_enc = training_model.layers[2].output\n",
        "encoder_states = [state_h_enc, state_c_enc]\n",
        "encoder_model = Model(encoder_inputs, encoder_states)\n",
        "\n",
        "latent_dim = 256\n",
        "decoder_state_input_hidden = Input(shape=(latent_dim,))\n",
        "decoder_state_input_cell = Input(shape=(latent_dim,))\n",
        "decoder_states_inputs = [decoder_state_input_hidden, decoder_state_input_cell]\n",
        "\n",
        "decoder_outputs, state_hidden, state_cell = decoder_LSTM(decoder_inputs, initial_state=decoder_states_inputs)\n",
        "decoder_states = [state_hidden, state_cell]\n",
        "# decoder_outputs = decoder_dense(decoder_outputs)\n",
        "\n",
        "decoder_model = Model([decoder_inputs] + decoder_states_inputs, [decoder_outputs] + decoder_states)\n",
        "\n",
        "#the function\n",
        "def decode_response(test_input):\n",
        "    #Getting the output states to pass into the decoder\n",
        "    states_value = encoder_model.predict(test_input)\n",
        "    #Generating empty target sequence of length 1\n",
        "    target_seq = np.zeros((1, 1, numberOfFrenchTokens))\n",
        "    #Setting the first token of target sequence with the start token\n",
        "\n",
        "    target_seq[0, 0, target_features_dict['<start>']] = 1.\n",
        "    \n",
        "    #A variable to store our response word by word\n",
        "    decoded_sentence = ''\n",
        "    \n",
        "    stop_condition = False\n",
        "    while not stop_condition:\n",
        "      #Predicting output tokens with probabilities and states\n",
        "      output_tokens, hidden_state, cell_state = decoder_model.predict([target_seq] + states_value)\n",
        "      #Choosing the one with highest probability\n",
        "      sampled_token_index = np.argmax(output_tokens[0, -1, :])\n",
        "      sampled_token = reverse_target_features_dict[sampled_token_index]\n",
        "      decoded_sentence += \" \" + sampled_token#Stop if hit max length or found the stop token\n",
        "      if (sampled_token == '<end>' or len(decoded_sentence) > max_decoder_seq_length):\n",
        "        stop_condition = True\n",
        "      #Update the target sequence\n",
        "      target_seq = np.zeros((1, 1, numberOfFrenchTokens))\n",
        "      target_seq[0, 0, sampled_token_index] = 1.\n",
        "      #Update states\n",
        "      states_value = [hidden_state, cell_state]\n",
        "    return decoded_sentence\n",
        "\n",
        "\n",
        "class Translator:\n",
        "  exit_commands = (\"quit\", \"pause\", \"exit\", \"goodbye\", \"bye\", \"later\", \"stop\")\n",
        "  \n",
        "  #Method to start the translator\n",
        "  def start(self,input):\n",
        "    self.translate(input)\n",
        "  \n",
        "  #Method to handle the conversation\n",
        "  def translate(self, reply):\n",
        "      reply = self.generate_response(reply)\n",
        "\n",
        "#Method to convert user input into a matrix\n",
        "  def string_to_matrix(self, user_input):\n",
        "    tokens = re.findall(r\"[\\w']+|[^\\s\\w]\", user_input)\n",
        "    user_input_matrix = np.zeros(\n",
        "      (1, max_encoder_seq_length, numberOfEnglishTokens),\n",
        "      dtype='float32')\n",
        "    for timestep, token in enumerate(tokens):\n",
        "      if token in input_features_dict:\n",
        "        user_input_matrix[0, timestep, input_features_dict[token]] = 1.\n",
        "    return user_input_matrix\n",
        "  \n",
        "  #Method that will create a response using seq2seq model we built\n",
        "  def generate_response(self, user_input):\n",
        "    input_matrix = self.string_to_matrix(user_input)\n",
        "    print(\"this is the matrix of out inpout\" ,input_matrix)\n",
        "    chatbot_response = decode_response(input_matrix)\n",
        "    #Remove <START> and <END> tokens from chatbot_response\n",
        "    chatbot_response = chatbot_response.replace(\"<start>\",'')\n",
        "    chatbot_response = chatbot_response.replace(\"<end>\",'')\n",
        "    print(chatbot_response)\n",
        "    return chatbot_response\n",
        "  \n",
        "  #Method to check for exit commands\n",
        "  def make_exit(self, reply):\n",
        "    for exit_command in self.exit_commands:\n",
        "      if exit_command in reply:\n",
        "        print(\"Ok, have a great day!\")\n",
        "        return True\n",
        "    return False"
      ],
      "metadata": {
        "id": "fUU_RdCxYpM6"
      },
      "execution_count": 25,
      "outputs": []
    },
    {
      "cell_type": "markdown",
      "source": [
        "Test the following sentence"
      ],
      "metadata": {
        "id": "XUQIcAjWz3bt"
      }
    },
    {
      "cell_type": "code",
      "execution_count": 33,
      "metadata": {
        "id": "fDmNqnZIQMko"
      },
      "outputs": [],
      "source": [
        "translator = Translator()\n",
        "testText= \"she drives the truck\"\n",
        "translator.start(testText)\n"
      ]
    },
    {
      "cell_type": "markdown",
      "source": [
        "Try to improve your model by modifying the architecture to take into account bidirectionality which is very useful in Machine Translation. Create a new model called model2"
      ],
      "metadata": {
        "id": "wdI2XhaBz6CN"
      }
    },
    {
      "cell_type": "code",
      "execution_count": 34,
      "metadata": {
        "id": "Ch28BLsbGnCn",
        "colab": {
          "base_uri": "https://localhost:8080/"
        },
        "outputId": "82e1bbfc-5cad-4570-8d93-7ffb4dccc3a8"
      },
      "outputs": [
        {
          "output_type": "stream",
          "name": "stdout",
          "text": [
            "this is the matrix of out inpout [[[0. 0. 0. ... 0. 0. 0.]\n",
            "  [0. 0. 0. ... 0. 0. 0.]\n",
            "  [0. 0. 0. ... 0. 0. 0.]\n",
            "  ...\n",
            "  [0. 0. 0. ... 0. 0. 0.]\n",
            "  [0. 0. 0. ... 0. 0. 0.]\n",
            "  [0. 0. 0. ... 0. 0. 0.]]]\n",
            " merveilleux conduit conduit\n"
          ]
        }
      ],
      "source": [
        "from tensorflow.keras.models import Sequential\n",
        "from tensorflow.keras.layers import Embedding, SpatialDropout1D, Bidirectional, Dense, LSTM, Flatten\n",
        "\n",
        "embed_dim = 256\n",
        "\n",
        "lstm_out = 196\n",
        "model=Sequential()\n",
        "model.add(Embedding(input_dim=numberOfEnglishTokens+1, output_dim=100, input_length=15, mask_zero=True))\n",
        "model.add(Bidirectional(LSTM(units=100, return_sequences=True)))\n",
        "model.add(Bidirectional(LSTM(300), merge_mode='concat'))\n",
        "model.add(Dense(21, activation='softmax'))"
      ]
    },
    {
      "cell_type": "markdown",
      "source": [
        "compile and train your new model."
      ],
      "metadata": {
        "id": "EHDvxt9L0C21"
      }
    },
    {
      "cell_type": "code",
      "execution_count": null,
      "metadata": {
        "id": "iK1QvVmaTWI2"
      },
      "outputs": [],
      "source": [
        "model.compile(optimizer='sgd', loss='categorical_crossentropy',metrics= ['accuracy'])\n",
        "BATCH_SIZE = 256\n",
        "EPOCHS = 10\n",
        "model.fit(english_pad, french_pad,\n",
        "          batch_size=BATCH_SIZE,\n",
        "          epochs=EPOCHS,\n",
        "          validation_split=0.2)"
      ]
    },
    {
      "cell_type": "markdown",
      "source": [
        "Define a new function that relies on your new model to make predictions."
      ],
      "metadata": {
        "id": "CkpOI2JI0GBx"
      }
    },
    {
      "cell_type": "code",
      "execution_count": null,
      "metadata": {
        "id": "Gulu8OiXTbae"
      },
      "outputs": [],
      "source": [
        "def translate(input):\n",
        "  # input_clean=input.str.replace(r'[^\\w\\s]+', '')\n",
        "  en_tokenized_seq=engTokenizer.texts_to_sequences(input)\n",
        "  padded_sentence=pad_sequences(en_tokenized_seq, maxlen=15, padding='post')\n",
        "  prediction=model.predict(padded_sentence)\n",
        "  return frTokenizer.sequences_to_texts(prediction)"
      ]
    },
    {
      "cell_type": "code",
      "source": [
        "input = \"she is driving the truck\"\n",
        "translate(input)"
      ],
      "metadata": {
        "id": "8CO0pO6-UAeE"
      },
      "execution_count": null,
      "outputs": []
    },
    {
      "cell_type": "markdown",
      "source": [
        "**What is another adjustment in terms of architecture that you might be able to do to improve your model?**"
      ],
      "metadata": {
        "id": "YGeXrjqbZen7"
      }
    },
    {
      "cell_type": "markdown",
      "source": [
        "[Share Your Zaka]"
      ],
      "metadata": {
        "id": "bekjOkjbZlBf"
      }
    },
    {
      "cell_type": "markdown",
      "source": [
        "**What are some additional ways that we can do to improve the performance of our model?**"
      ],
      "metadata": {
        "id": "pnIN2lD2tn05"
      }
    },
    {
      "cell_type": "markdown",
      "source": [
        "[Share Your Zaka]"
      ],
      "metadata": {
        "id": "s7_MCCbQt3uq"
      }
    },
    {
      "cell_type": "code",
      "source": [
        ""
      ],
      "metadata": {
        "id": "_cA93K-TUbcR"
      },
      "execution_count": null,
      "outputs": []
    }
  ],
  "metadata": {
    "colab": {
      "name": "Copy of Copy of Copy of [Blanks] Week 8 Challenge - Machine Translation (ENG-FR).ipynb",
      "provenance": [],
      "collapsed_sections": [],
      "include_colab_link": true
    },
    "kernelspec": {
      "display_name": "Python 3",
      "name": "python3"
    },
    "language_info": {
      "name": "python"
    }
  },
  "nbformat": 4,
  "nbformat_minor": 0
}